{
 "cells": [
  {
   "cell_type": "markdown",
   "metadata": {},
   "source": [
    "# The Challenge\n",
    "\n",
    "The sinking of the Titanic is one of the most infamous shipwrecks in history.\n",
    "\n",
    "On April 15, 1912, during her maiden voyage, the widely considered “unsinkable” RMS Titanic sank after colliding with an iceberg. Unfortunately, there weren’t enough lifeboats for everyone onboard, resulting in the death of 1502 out of 2224 passengers and crew.\n",
    "\n",
    "While there was some element of luck involved in surviving, it seems some groups of people were more likely to survive than others.\n",
    "\n",
    "In this challenge, we ask you to build a predictive model that answers the question: “what sorts of people were more likely to survive?” using passenger data (ie name, age, gender, socio-economic class, etc).# "
   ]
  },
  {
   "cell_type": "code",
   "execution_count": 6,
   "metadata": {
    "extensions": {
     "jupyter_dashboards": {
      "version": 1,
      "views": {
       "default_view": {
        "hidden": true
       }
      }
     }
    }
   },
   "outputs": [],
   "source": [
    "import pandas as pd\n",
    "dataset  = pd.read_csv(\"train.csv\")"
   ]
  },
  {
   "cell_type": "code",
   "execution_count": 101,
   "metadata": {},
   "outputs": [
    {
     "data": {
      "text/plain": [
       "(891, 12)"
      ]
     },
     "execution_count": 101,
     "metadata": {},
     "output_type": "execute_result"
    }
   ],
   "source": [
    "dataset.shape"
   ]
  },
  {
   "cell_type": "code",
   "execution_count": 7,
   "metadata": {
    "extensions": {
     "jupyter_dashboards": {
      "version": 1,
      "views": {
       "default_view": {
        "hidden": true
       }
      }
     }
    }
   },
   "outputs": [],
   "source": [
    "dataset['Sex'] = dataset[\"Sex\"].map({'male' :0 , 'female' : 1})\n",
    "\n"
   ]
  },
  {
   "cell_type": "code",
   "execution_count": 8,
   "metadata": {},
   "outputs": [],
   "source": [
    "dataset['Embarked'] = dataset[\"Embarked\"].map({'C' :1 , 'S' : 2 , \"Q\":3})"
   ]
  },
  {
   "cell_type": "code",
   "execution_count": 9,
   "metadata": {
    "extensions": {
     "jupyter_dashboards": {
      "version": 1,
      "views": {
       "default_view": {
        "col": 0,
        "height": 2,
        "hidden": false,
        "row": 4,
        "width": 12
       }
      }
     }
    }
   },
   "outputs": [
    {
     "data": {
      "text/html": [
       "<div>\n",
       "<style scoped>\n",
       "    .dataframe tbody tr th:only-of-type {\n",
       "        vertical-align: middle;\n",
       "    }\n",
       "\n",
       "    .dataframe tbody tr th {\n",
       "        vertical-align: top;\n",
       "    }\n",
       "\n",
       "    .dataframe thead th {\n",
       "        text-align: right;\n",
       "    }\n",
       "</style>\n",
       "<table border=\"1\" class=\"dataframe\">\n",
       "  <thead>\n",
       "    <tr style=\"text-align: right;\">\n",
       "      <th></th>\n",
       "      <th>PassengerId</th>\n",
       "      <th>Survived</th>\n",
       "      <th>Pclass</th>\n",
       "      <th>Name</th>\n",
       "      <th>Sex</th>\n",
       "      <th>Age</th>\n",
       "      <th>SibSp</th>\n",
       "      <th>Parch</th>\n",
       "      <th>Ticket</th>\n",
       "      <th>Fare</th>\n",
       "      <th>Cabin</th>\n",
       "      <th>Embarked</th>\n",
       "    </tr>\n",
       "  </thead>\n",
       "  <tbody>\n",
       "    <tr>\n",
       "      <th>0</th>\n",
       "      <td>1</td>\n",
       "      <td>0</td>\n",
       "      <td>3</td>\n",
       "      <td>Braund, Mr. Owen Harris</td>\n",
       "      <td>0</td>\n",
       "      <td>22.0</td>\n",
       "      <td>1</td>\n",
       "      <td>0</td>\n",
       "      <td>A/5 21171</td>\n",
       "      <td>7.2500</td>\n",
       "      <td>NaN</td>\n",
       "      <td>2.0</td>\n",
       "    </tr>\n",
       "    <tr>\n",
       "      <th>1</th>\n",
       "      <td>2</td>\n",
       "      <td>1</td>\n",
       "      <td>1</td>\n",
       "      <td>Cumings, Mrs. John Bradley (Florence Briggs Th...</td>\n",
       "      <td>1</td>\n",
       "      <td>38.0</td>\n",
       "      <td>1</td>\n",
       "      <td>0</td>\n",
       "      <td>PC 17599</td>\n",
       "      <td>71.2833</td>\n",
       "      <td>C85</td>\n",
       "      <td>1.0</td>\n",
       "    </tr>\n",
       "    <tr>\n",
       "      <th>2</th>\n",
       "      <td>3</td>\n",
       "      <td>1</td>\n",
       "      <td>3</td>\n",
       "      <td>Heikkinen, Miss. Laina</td>\n",
       "      <td>1</td>\n",
       "      <td>26.0</td>\n",
       "      <td>0</td>\n",
       "      <td>0</td>\n",
       "      <td>STON/O2. 3101282</td>\n",
       "      <td>7.9250</td>\n",
       "      <td>NaN</td>\n",
       "      <td>2.0</td>\n",
       "    </tr>\n",
       "    <tr>\n",
       "      <th>3</th>\n",
       "      <td>4</td>\n",
       "      <td>1</td>\n",
       "      <td>1</td>\n",
       "      <td>Futrelle, Mrs. Jacques Heath (Lily May Peel)</td>\n",
       "      <td>1</td>\n",
       "      <td>35.0</td>\n",
       "      <td>1</td>\n",
       "      <td>0</td>\n",
       "      <td>113803</td>\n",
       "      <td>53.1000</td>\n",
       "      <td>C123</td>\n",
       "      <td>2.0</td>\n",
       "    </tr>\n",
       "    <tr>\n",
       "      <th>4</th>\n",
       "      <td>5</td>\n",
       "      <td>0</td>\n",
       "      <td>3</td>\n",
       "      <td>Allen, Mr. William Henry</td>\n",
       "      <td>0</td>\n",
       "      <td>35.0</td>\n",
       "      <td>0</td>\n",
       "      <td>0</td>\n",
       "      <td>373450</td>\n",
       "      <td>8.0500</td>\n",
       "      <td>NaN</td>\n",
       "      <td>2.0</td>\n",
       "    </tr>\n",
       "  </tbody>\n",
       "</table>\n",
       "</div>"
      ],
      "text/plain": [
       "   PassengerId  Survived  Pclass  \\\n",
       "0            1         0       3   \n",
       "1            2         1       1   \n",
       "2            3         1       3   \n",
       "3            4         1       1   \n",
       "4            5         0       3   \n",
       "\n",
       "                                                Name  Sex   Age  SibSp  Parch  \\\n",
       "0                            Braund, Mr. Owen Harris    0  22.0      1      0   \n",
       "1  Cumings, Mrs. John Bradley (Florence Briggs Th...    1  38.0      1      0   \n",
       "2                             Heikkinen, Miss. Laina    1  26.0      0      0   \n",
       "3       Futrelle, Mrs. Jacques Heath (Lily May Peel)    1  35.0      1      0   \n",
       "4                           Allen, Mr. William Henry    0  35.0      0      0   \n",
       "\n",
       "             Ticket     Fare Cabin  Embarked  \n",
       "0         A/5 21171   7.2500   NaN       2.0  \n",
       "1          PC 17599  71.2833   C85       1.0  \n",
       "2  STON/O2. 3101282   7.9250   NaN       2.0  \n",
       "3            113803  53.1000  C123       2.0  \n",
       "4            373450   8.0500   NaN       2.0  "
      ]
     },
     "execution_count": 9,
     "metadata": {},
     "output_type": "execute_result"
    }
   ],
   "source": [
    "dataset.head()"
   ]
  },
  {
   "cell_type": "code",
   "execution_count": 55,
   "metadata": {
    "extensions": {
     "jupyter_dashboards": {
      "version": 1,
      "views": {
       "default_view": {
        "hidden": true
       }
      }
     }
    }
   },
   "outputs": [
    {
     "data": {
      "text/plain": [
       "(891, 8)"
      ]
     },
     "execution_count": 55,
     "metadata": {},
     "output_type": "execute_result"
    }
   ],
   "source": [
    "dataset.shape"
   ]
  },
  {
   "cell_type": "code",
   "execution_count": 77,
   "metadata": {},
   "outputs": [],
   "source": [
    "from matplotlib import pyplot as plt"
   ]
  },
  {
   "cell_type": "code",
   "execution_count": 65,
   "metadata": {},
   "outputs": [
    {
     "data": {
      "text/plain": [
       "<matplotlib.axes._subplots.AxesSubplot at 0x13999330>"
      ]
     },
     "execution_count": 65,
     "metadata": {},
     "output_type": "execute_result"
    },
    {
     "data": {
      "image/png": "[encoded data removed]",
      "text/plain": [
       "<Figure size 432x288 with 1 Axes>"
      ]
     },
     "metadata": {
      "needs_background": "light"
     },
     "output_type": "display_data"
    }
   ],
   "source": [
    "dataset.groupby(\"Sex\").agg(\"mean\")[\"Survived\"].plot(kind=\"bar\")"
   ]
  },
  {
   "cell_type": "code",
   "execution_count": 68,
   "metadata": {},
   "outputs": [
    {
     "data": {
      "text/plain": [
       "<matplotlib.axes._subplots.AxesSubplot at 0x13bc7910>"
      ]
     },
     "execution_count": 68,
     "metadata": {},
     "output_type": "execute_result"
    },
    {
     "data": {
      "image/png": "[encoded data removed]",
      "text/plain": [
       "<Figure size 432x288 with 1 Axes>"
      ]
     },
     "metadata": {
      "needs_background": "light"
     },
     "output_type": "display_data"
    }
   ],
   "source": [
    "dataset.groupby(\"Pclass\").agg(\"mean\")[\"Survived\"].plot(kind=\"bar\")"
   ]
  },
  {
   "cell_type": "code",
   "execution_count": 70,
   "metadata": {},
   "outputs": [
    {
     "data": {
      "text/plain": [
       "<matplotlib.axes._subplots.AxesSubplot at 0x13c2d870>"
      ]
     },
     "execution_count": 70,
     "metadata": {},
     "output_type": "execute_result"
    },
    {
     "data": {
      "image/png": "[encoded data removed]",
      "text/plain": [
       "<Figure size 432x288 with 1 Axes>"
      ]
     },
     "metadata": {
      "needs_background": "light"
     },
     "output_type": "display_data"
    }
   ],
   "source": [
    "dataset.groupby(\"Parch\").agg(\"mean\")[\"Survived\"].plot(kind=\"bar\")"
   ]
  },
  {
   "cell_type": "code",
   "execution_count": 73,
   "metadata": {},
   "outputs": [
    {
     "data": {
      "text/plain": [
       "<matplotlib.axes._subplots.AxesSubplot at 0x13ce2c70>"
      ]
     },
     "execution_count": 73,
     "metadata": {},
     "output_type": "execute_result"
    },
    {
     "data": {
      "image/png": "[encoded data removed]",
      "text/plain": [
       "<Figure size 432x288 with 1 Axes>"
      ]
     },
     "metadata": {
      "needs_background": "light"
     },
     "output_type": "display_data"
    }
   ],
   "source": [
    "dataset.groupby(\"Embarked\").agg(\"mean\")[\"Survived\"].plot(kind=\"bar\")"
   ]
  },
  {
   "cell_type": "code",
   "execution_count": 74,
   "metadata": {},
   "outputs": [
    {
     "data": {
      "text/plain": [
       "<matplotlib.axes._subplots.AxesSubplot at 0x137af6d0>"
      ]
     },
     "execution_count": 74,
     "metadata": {},
     "output_type": "execute_result"
    },
    {
     "data": {
      "image/png": "[encoded data removed]",
      "text/plain": [
       "<Figure size 432x288 with 1 Axes>"
      ]
     },
     "metadata": {
      "needs_background": "light"
     },
     "output_type": "display_data"
    }
   ],
   "source": [
    "dataset.groupby(\"SibSp\").agg(\"mean\")[\"Survived\"].plot(kind=\"bar\")"
   ]
  },
  {
   "cell_type": "code",
   "execution_count": 104,
   "metadata": {},
   "outputs": [
    {
     "data": {
      "text/html": [
       "<div>\n",
       "<style scoped>\n",
       "    .dataframe tbody tr th:only-of-type {\n",
       "        vertical-align: middle;\n",
       "    }\n",
       "\n",
       "    .dataframe tbody tr th {\n",
       "        vertical-align: top;\n",
       "    }\n",
       "\n",
       "    .dataframe thead th {\n",
       "        text-align: right;\n",
       "    }\n",
       "</style>\n",
       "<table border=\"1\" class=\"dataframe\">\n",
       "  <thead>\n",
       "    <tr style=\"text-align: right;\">\n",
       "      <th></th>\n",
       "      <th>PassengerId</th>\n",
       "      <th>Survived</th>\n",
       "      <th>Pclass</th>\n",
       "      <th>Name</th>\n",
       "      <th>Sex</th>\n",
       "      <th>Age</th>\n",
       "      <th>SibSp</th>\n",
       "      <th>Parch</th>\n",
       "      <th>Ticket</th>\n",
       "      <th>Fare</th>\n",
       "      <th>Cabin</th>\n",
       "      <th>Embarked</th>\n",
       "    </tr>\n",
       "  </thead>\n",
       "  <tbody>\n",
       "    <tr>\n",
       "      <th>0</th>\n",
       "      <td>1</td>\n",
       "      <td>0</td>\n",
       "      <td>3</td>\n",
       "      <td>Braund, Mr. Owen Harris</td>\n",
       "      <td>0</td>\n",
       "      <td>22.0</td>\n",
       "      <td>1</td>\n",
       "      <td>0</td>\n",
       "      <td>A/5 21171</td>\n",
       "      <td>7.2500</td>\n",
       "      <td>NaN</td>\n",
       "      <td>2.0</td>\n",
       "    </tr>\n",
       "    <tr>\n",
       "      <th>1</th>\n",
       "      <td>2</td>\n",
       "      <td>1</td>\n",
       "      <td>1</td>\n",
       "      <td>Cumings, Mrs. John Bradley (Florence Briggs Th...</td>\n",
       "      <td>1</td>\n",
       "      <td>38.0</td>\n",
       "      <td>1</td>\n",
       "      <td>0</td>\n",
       "      <td>PC 17599</td>\n",
       "      <td>71.2833</td>\n",
       "      <td>C85</td>\n",
       "      <td>1.0</td>\n",
       "    </tr>\n",
       "    <tr>\n",
       "      <th>2</th>\n",
       "      <td>3</td>\n",
       "      <td>1</td>\n",
       "      <td>3</td>\n",
       "      <td>Heikkinen, Miss. Laina</td>\n",
       "      <td>1</td>\n",
       "      <td>26.0</td>\n",
       "      <td>0</td>\n",
       "      <td>0</td>\n",
       "      <td>STON/O2. 3101282</td>\n",
       "      <td>7.9250</td>\n",
       "      <td>NaN</td>\n",
       "      <td>2.0</td>\n",
       "    </tr>\n",
       "    <tr>\n",
       "      <th>3</th>\n",
       "      <td>4</td>\n",
       "      <td>1</td>\n",
       "      <td>1</td>\n",
       "      <td>Futrelle, Mrs. Jacques Heath (Lily May Peel)</td>\n",
       "      <td>1</td>\n",
       "      <td>35.0</td>\n",
       "      <td>1</td>\n",
       "      <td>0</td>\n",
       "      <td>113803</td>\n",
       "      <td>53.1000</td>\n",
       "      <td>C123</td>\n",
       "      <td>2.0</td>\n",
       "    </tr>\n",
       "    <tr>\n",
       "      <th>4</th>\n",
       "      <td>5</td>\n",
       "      <td>0</td>\n",
       "      <td>3</td>\n",
       "      <td>Allen, Mr. William Henry</td>\n",
       "      <td>0</td>\n",
       "      <td>35.0</td>\n",
       "      <td>0</td>\n",
       "      <td>0</td>\n",
       "      <td>373450</td>\n",
       "      <td>8.0500</td>\n",
       "      <td>NaN</td>\n",
       "      <td>2.0</td>\n",
       "    </tr>\n",
       "  </tbody>\n",
       "</table>\n",
       "</div>"
      ],
      "text/plain": [
       "   PassengerId  Survived  Pclass  \\\n",
       "0            1         0       3   \n",
       "1            2         1       1   \n",
       "2            3         1       3   \n",
       "3            4         1       1   \n",
       "4            5         0       3   \n",
       "\n",
       "                                                Name  Sex   Age  SibSp  Parch  \\\n",
       "0                            Braund, Mr. Owen Harris    0  22.0      1      0   \n",
       "1  Cumings, Mrs. John Bradley (Florence Briggs Th...    1  38.0      1      0   \n",
       "2                             Heikkinen, Miss. Laina    1  26.0      0      0   \n",
       "3       Futrelle, Mrs. Jacques Heath (Lily May Peel)    1  35.0      1      0   \n",
       "4                           Allen, Mr. William Henry    0  35.0      0      0   \n",
       "\n",
       "             Ticket     Fare Cabin  Embarked  \n",
       "0         A/5 21171   7.2500   NaN       2.0  \n",
       "1          PC 17599  71.2833   C85       1.0  \n",
       "2  STON/O2. 3101282   7.9250   NaN       2.0  \n",
       "3            113803  53.1000  C123       2.0  \n",
       "4            373450   8.0500   NaN       2.0  "
      ]
     },
     "execution_count": 104,
     "metadata": {},
     "output_type": "execute_result"
    }
   ],
   "source": [
    "dataset.head()"
   ]
  },
  {
   "cell_type": "code",
   "execution_count": 10,
   "metadata": {},
   "outputs": [],
   "source": [
    "features = [ \"Pclass\",\"Sex\",\"Age\",\"SibSp\",\"Parch\",\"Fare\",\"Embarked\"]"
   ]
  },
  {
   "cell_type": "code",
   "execution_count": 11,
   "metadata": {},
   "outputs": [],
   "source": [
    "label = [\"Survived\"]"
   ]
  },
  {
   "cell_type": "code",
   "execution_count": 12,
   "metadata": {},
   "outputs": [],
   "source": [
    "import numpy as np"
   ]
  },
  {
   "cell_type": "code",
   "execution_count": 13,
   "metadata": {},
   "outputs": [
    {
     "data": {
      "text/html": [
       "<div>\n",
       "<style scoped>\n",
       "    .dataframe tbody tr th:only-of-type {\n",
       "        vertical-align: middle;\n",
       "    }\n",
       "\n",
       "    .dataframe tbody tr th {\n",
       "        vertical-align: top;\n",
       "    }\n",
       "\n",
       "    .dataframe thead th {\n",
       "        text-align: right;\n",
       "    }\n",
       "</style>\n",
       "<table border=\"1\" class=\"dataframe\">\n",
       "  <thead>\n",
       "    <tr style=\"text-align: right;\">\n",
       "      <th></th>\n",
       "      <th>Pclass</th>\n",
       "      <th>Sex</th>\n",
       "      <th>Age</th>\n",
       "      <th>SibSp</th>\n",
       "      <th>Parch</th>\n",
       "      <th>Fare</th>\n",
       "      <th>Embarked</th>\n",
       "    </tr>\n",
       "  </thead>\n",
       "  <tbody>\n",
       "    <tr>\n",
       "      <th>0</th>\n",
       "      <td>3</td>\n",
       "      <td>0</td>\n",
       "      <td>22.0</td>\n",
       "      <td>1</td>\n",
       "      <td>0</td>\n",
       "      <td>7.2500</td>\n",
       "      <td>2.0</td>\n",
       "    </tr>\n",
       "    <tr>\n",
       "      <th>1</th>\n",
       "      <td>1</td>\n",
       "      <td>1</td>\n",
       "      <td>38.0</td>\n",
       "      <td>1</td>\n",
       "      <td>0</td>\n",
       "      <td>71.2833</td>\n",
       "      <td>1.0</td>\n",
       "    </tr>\n",
       "    <tr>\n",
       "      <th>2</th>\n",
       "      <td>3</td>\n",
       "      <td>1</td>\n",
       "      <td>26.0</td>\n",
       "      <td>0</td>\n",
       "      <td>0</td>\n",
       "      <td>7.9250</td>\n",
       "      <td>2.0</td>\n",
       "    </tr>\n",
       "    <tr>\n",
       "      <th>3</th>\n",
       "      <td>1</td>\n",
       "      <td>1</td>\n",
       "      <td>35.0</td>\n",
       "      <td>1</td>\n",
       "      <td>0</td>\n",
       "      <td>53.1000</td>\n",
       "      <td>2.0</td>\n",
       "    </tr>\n",
       "    <tr>\n",
       "      <th>4</th>\n",
       "      <td>3</td>\n",
       "      <td>0</td>\n",
       "      <td>35.0</td>\n",
       "      <td>0</td>\n",
       "      <td>0</td>\n",
       "      <td>8.0500</td>\n",
       "      <td>2.0</td>\n",
       "    </tr>\n",
       "    <tr>\n",
       "      <th>...</th>\n",
       "      <td>...</td>\n",
       "      <td>...</td>\n",
       "      <td>...</td>\n",
       "      <td>...</td>\n",
       "      <td>...</td>\n",
       "      <td>...</td>\n",
       "      <td>...</td>\n",
       "    </tr>\n",
       "    <tr>\n",
       "      <th>885</th>\n",
       "      <td>3</td>\n",
       "      <td>1</td>\n",
       "      <td>39.0</td>\n",
       "      <td>0</td>\n",
       "      <td>5</td>\n",
       "      <td>29.1250</td>\n",
       "      <td>3.0</td>\n",
       "    </tr>\n",
       "    <tr>\n",
       "      <th>886</th>\n",
       "      <td>2</td>\n",
       "      <td>0</td>\n",
       "      <td>27.0</td>\n",
       "      <td>0</td>\n",
       "      <td>0</td>\n",
       "      <td>13.0000</td>\n",
       "      <td>2.0</td>\n",
       "    </tr>\n",
       "    <tr>\n",
       "      <th>887</th>\n",
       "      <td>1</td>\n",
       "      <td>1</td>\n",
       "      <td>19.0</td>\n",
       "      <td>0</td>\n",
       "      <td>0</td>\n",
       "      <td>30.0000</td>\n",
       "      <td>2.0</td>\n",
       "    </tr>\n",
       "    <tr>\n",
       "      <th>889</th>\n",
       "      <td>1</td>\n",
       "      <td>0</td>\n",
       "      <td>26.0</td>\n",
       "      <td>0</td>\n",
       "      <td>0</td>\n",
       "      <td>30.0000</td>\n",
       "      <td>1.0</td>\n",
       "    </tr>\n",
       "    <tr>\n",
       "      <th>890</th>\n",
       "      <td>3</td>\n",
       "      <td>0</td>\n",
       "      <td>32.0</td>\n",
       "      <td>0</td>\n",
       "      <td>0</td>\n",
       "      <td>7.7500</td>\n",
       "      <td>3.0</td>\n",
       "    </tr>\n",
       "  </tbody>\n",
       "</table>\n",
       "<p>712 rows × 7 columns</p>\n",
       "</div>"
      ],
      "text/plain": [
       "     Pclass  Sex   Age  SibSp  Parch     Fare  Embarked\n",
       "0         3    0  22.0      1      0   7.2500       2.0\n",
       "1         1    1  38.0      1      0  71.2833       1.0\n",
       "2         3    1  26.0      0      0   7.9250       2.0\n",
       "3         1    1  35.0      1      0  53.1000       2.0\n",
       "4         3    0  35.0      0      0   8.0500       2.0\n",
       "..      ...  ...   ...    ...    ...      ...       ...\n",
       "885       3    1  39.0      0      5  29.1250       3.0\n",
       "886       2    0  27.0      0      0  13.0000       2.0\n",
       "887       1    1  19.0      0      0  30.0000       2.0\n",
       "889       1    0  26.0      0      0  30.0000       1.0\n",
       "890       3    0  32.0      0      0   7.7500       3.0\n",
       "\n",
       "[712 rows x 7 columns]"
      ]
     },
     "execution_count": 13,
     "metadata": {},
     "output_type": "execute_result"
    }
   ],
   "source": [
    "dataset[features].dropna()"
   ]
  },
  {
   "cell_type": "code",
   "execution_count": 14,
   "metadata": {},
   "outputs": [],
   "source": [
    "X= np.array(dataset[features])\n",
    "Y = np.array(dataset[label])"
   ]
  },
  {
   "cell_type": "code",
   "execution_count": 15,
   "metadata": {},
   "outputs": [],
   "source": [
    "col_mean = np.nanmean(X, axis=0)\n",
    "inds = np.where(np.isnan(X))\n",
    "X[inds] = np.take(col_mean, inds[1])"
   ]
  },
  {
   "cell_type": "code",
   "execution_count": 73,
   "metadata": {},
   "outputs": [
    {
     "data": {
      "text/plain": [
       "(712, 7)"
      ]
     },
     "execution_count": 73,
     "metadata": {},
     "output_type": "execute_result"
    }
   ],
   "source": [
    "dataset[features].dropna().shape"
   ]
  },
  {
   "cell_type": "code",
   "execution_count": 74,
   "metadata": {},
   "outputs": [],
   "source": [
    "train_X = X[0:550]\n",
    "test_X = X[550:]\n",
    "train_Y = Y[0:550]\n",
    "test_Y = Y[550:]"
   ]
  },
  {
   "cell_type": "code",
   "execution_count": 75,
   "metadata": {},
   "outputs": [
    {
     "name": "stdout",
     "output_type": "stream",
     "text": [
      "(550, 7)\n",
      "(341, 7)\n"
     ]
    }
   ],
   "source": [
    "print(train_X.shape)\n",
    "print(test_X.shape)"
   ]
  },
  {
   "cell_type": "code",
   "execution_count": 18,
   "metadata": {},
   "outputs": [],
   "source": [
    "def sigmoid(Z):\n",
    "    s = 1 /(1 + np.exp(-Z))\n",
    "    return s\n"
   ]
  },
  {
   "cell_type": "code",
   "execution_count": 19,
   "metadata": {},
   "outputs": [],
   "source": [
    "def initialize_with_zeros(dim):\n",
    "    \"\"\"\n",
    "    This function creates a vector of zeros of shape (dim, 1) for w and initializes b to 0.\n",
    "    \n",
    "    Argument:\n",
    "    dim -- size of the w vector we want (or number of parameters in this case)\n",
    "    \n",
    "    Returns:\n",
    "    w -- initialized vector of shape (dim, 1)\n",
    "    b -- initialized scalar (corresponds to the bias)\n",
    "    \"\"\"\n",
    "    np.random.seed(2)\n",
    "    ### START CODE HERE ### (≈ 1 line of code)\n",
    "    w = np.random.randn(dim,1)\n",
    "    b = 0\n",
    "    ### END CODE HERE ###\n",
    "\n",
    "    assert(w.shape == (dim, 1))\n",
    "    assert(isinstance(b, float) or isinstance(b, int))\n",
    "    \n",
    "    return w, b"
   ]
  },
  {
   "cell_type": "code",
   "execution_count": 20,
   "metadata": {},
   "outputs": [],
   "source": [
    "def propagate(w, b, X, Y):\n",
    "    \"\"\"\n",
    "    Implement the cost function and its gradient for the propagation explained above\n",
    "\n",
    "    Arguments:\n",
    "    w -- weights, a numpy array of size (num_px * num_px * 3, 1)\n",
    "    b -- bias, a scalar\n",
    "    X -- data of size (num_px * num_px * 3, number of examples)\n",
    "    Y -- true \"label\" vector (containing 0 if non-cat, 1 if cat) of size (1, number of examples)\n",
    "\n",
    "    Return:\n",
    "    cost -- negative log-likelihood cost for logistic regression\n",
    "    dw -- gradient of the loss with respect to w, thus same shape as w\n",
    "    db -- gradient of the loss with respect to b, thus same shape as b\n",
    "    \n",
    "    Tips:\n",
    "    - Write your code step by step for the propagation. np.log(), np.dot()\n",
    "    \"\"\"\n",
    "    \n",
    "    m = X.shape[0]\n",
    "    \n",
    "    # FORWARD PROPAGATION (FROM X TO COST)\n",
    "    ### START CODE HERE ### (≈ 2 lines of code)\n",
    "\n",
    "    A = sigmoid(np.dot( X , w) + b)  \n",
    "\n",
    "    # compute activation\n",
    "    cost = -(1/m)* np.sum( Y * np.log(A) + (1-Y) * np.log((1-A)) )      # compute cost\n",
    "\n",
    "    ### END CODE HERE ###\n",
    "\n",
    "    # BACKWARD PROPAGATION (TO FIND GRAD)\n",
    "    ### START CODE HERE ### (≈ 2 lines of code)\n",
    "    dw = (1/m) * ( np.dot( X.T , (A-Y)))\n",
    "    db = (1/m)*np.sum(A-Y)\n",
    "    ### END CODE HERE ###\n",
    "\n",
    "    assert(dw.shape == w.shape)\n",
    "    assert(db.dtype == float)\n",
    "    cost = np.squeeze(cost)\n",
    "    assert(cost.shape == ())\n",
    "    \n",
    "    grads = {\"dw\": dw,\n",
    "             \"db\": db}\n",
    "    \n",
    "    return grads, cost"
   ]
  },
  {
   "cell_type": "code",
   "execution_count": 21,
   "metadata": {},
   "outputs": [],
   "source": [
    "\n",
    "def optimize(w, b, X, Y, num_iterations, learning_rate, print_cost = False):\n",
    "    \"\"\"\n",
    "    This function optimizes w and b by running a gradient descent algorithm\n",
    "    \n",
    "    Arguments:\n",
    "    w -- weights, a numpy array of size (num_px * num_px * 3, 1)\n",
    "    b -- bias, a scalar\n",
    "    X -- data of shape (num_px * num_px * 3, number of examples)\n",
    "    Y -- true \"label\" vector (containing 0 if non-cat, 1 if cat), of shape (1, number of examples)\n",
    "    num_iterations -- number of iterations of the optimization loop\n",
    "    learning_rate -- learning rate of the gradient descent update rule\n",
    "    print_cost -- True to print the loss every 100 steps\n",
    "    \n",
    "    Returns:\n",
    "    params -- dictionary containing the weights w and bias b\n",
    "    grads -- dictionary containing the gradients of the weights and bias with respect to the cost function\n",
    "    costs -- list of all the costs computed during the optimization, this will be used to plot the learning curve.\n",
    "    \n",
    "    Tips:\n",
    "    You basically need to write down two steps and iterate through them:\n",
    "        1) Calculate the cost and the gradient for the current parameters. Use propagate().\n",
    "        2) Update the parameters using gradient descent rule for w and b.\n",
    "    \"\"\"\n",
    "    \n",
    "    costs = []\n",
    "    \n",
    "    for i in range(num_iterations):\n",
    "        \n",
    "        \n",
    "        # Cost and gradient calculation (≈ 1-4 lines of code)\n",
    "        ### START CODE HERE ### \n",
    "        grads, cost = propagate(w, b, X, Y)\n",
    "        ### END CODE HERE ###\n",
    "        \n",
    "        # Retrieve derivatives from grads\n",
    "        dw = grads[\"dw\"]\n",
    "        db = grads[\"db\"]\n",
    "        \n",
    "        # update rule (≈ 2 lines of code)\n",
    "        ### START CODE HERE ###\n",
    "        w =  w - learning_rate * ( dw)\n",
    "        b =  b - learning_rate * ( db)\n",
    "        \n",
    "        ### END CODE HERE ###\n",
    "        \n",
    "        # Record the costs\n",
    "        if i % 100 == 0:\n",
    "            costs.append(cost)\n",
    "        \n",
    "        # Print the cost every 100 training iterations\n",
    "        if print_cost and i % 100 == 0:\n",
    "            print (\"Cost after iteration %i: %f\" %(i, cost))\n",
    "    \n",
    "    params = {\"w\": w,\n",
    "              \"b\": b}\n",
    "    \n",
    "    grads = {\"dw\": dw,\n",
    "             \"db\": db}\n",
    "    \n",
    "    return params, grads, costs"
   ]
  },
  {
   "cell_type": "code",
   "execution_count": 103,
   "metadata": {},
   "outputs": [],
   "source": [
    "# GRADED FUNCTION: predict\n",
    "\n",
    "def predict(w, b, X ):\n",
    "    '''\n",
    "    Predict whether the label is 0 or 1 using learned logistic regression parameters (w, b)\n",
    "    \n",
    "    Arguments:\n",
    "    w -- weights, a numpy array of size (num_px * num_px * 3, 1)\n",
    "    b -- bias, a scalar\n",
    "    X -- data of size (num_px * num_px * 3, number of examples)\n",
    "    \n",
    "    Returns:\n",
    "    Y_prediction -- a numpy array (vector) containing all predictions (0/1) for the examples in X\n",
    "    '''\n",
    "    \n",
    "    m = X.shape[0]\n",
    "    Y_prediction = np.zeros((m,1))\n",
    "    w = w.reshape(X.shape[1], 1)\n",
    "    \n",
    "    # Compute vector \"A\" predicting the probabilities of a cat being present in the picture\n",
    "    ### START CODE HERE ### (≈ 1 line of code)\n",
    "    A = sigmoid(np.dot(  X,w) + b) \n",
    "\n",
    "    ### END CODE HERE ###\n",
    "    \n",
    "    for i in range(A.shape[0]):\n",
    "        # Convert probabilities A[0,i] to actual predictions p[0,i]\n",
    "        ### START CODE HERE ### (≈ 4 lines of code)\n",
    "        if(A[i,0]>=0.5):\n",
    "            Y_prediction[i,0]=1\n",
    "        else:\n",
    "            Y_prediction[i,0]=0\n",
    "        ### END CODE HERE ###\n",
    "#     print(Y_prediction.T)\n",
    "    assert(Y_prediction.shape == (m,1))\n",
    "    \n",
    "    return Y_prediction"
   ]
  },
  {
   "cell_type": "code",
   "execution_count": 109,
   "metadata": {},
   "outputs": [],
   "source": [
    "# GRADED FUNCTION: model\n",
    "\n",
    "def model(X_train, Y_train, X_test, Y_test, num_iterations = 2000, learning_rate = 0.5, print_cost = False):\n",
    "    \"\"\"\n",
    "    Builds the logistic regression model by calling the function you've implemented previously\n",
    "    \n",
    "    Arguments:\n",
    "    X_train -- training set represented by a numpy array of shape (num_px * num_px * 3, m_train)\n",
    "    Y_train -- training labels represented by a numpy array (vector) of shape (1, m_train)\n",
    "    X_test -- test set represented by a numpy array of shape (num_px * num_px * 3, m_test)\n",
    "    Y_test -- test labels represented by a numpy array (vector) of shape (1, m_test)\n",
    "    num_iterations -- hyperparameter representing the number of iterations to optimize the parameters\n",
    "    learning_rate -- hyperparameter representing the learning rate used in the update rule of optimize()\n",
    "    print_cost -- Set to true to print the cost every 100 iterations\n",
    "    \n",
    "    Returns:\n",
    "    d -- dictionary containing information about the model.\n",
    "    \"\"\"\n",
    "    \n",
    "    ### START CODE HERE ###\n",
    "    m = X_train.shape[1]\n",
    "    # initialize parameters with zeros (≈ 1 line of code)\n",
    "    w, b =initialize_with_zeros(m)\n",
    "\n",
    "    # Gradient descent (≈ 1 line of code)\n",
    "    m = X_train.shape[0]\n",
    "    parameters, grads, costs = optimize(w, b, X_train, Y_train, num_iterations, learning_rate, print_cost)\n",
    "    \n",
    "    # Retrieve parameters w and b from dictionary \"parameters\"\n",
    "    w = parameters[\"w\"]\n",
    "    b = parameters[\"b\"]\n",
    "    \n",
    "    # Predict test/train set examples (≈ 2 lines of code)\n",
    "    Y_prediction_test =  predict(w, b, X_test)\n",
    "    Y_prediction_train = predict(w, b, X_train)\n",
    "\n",
    "    ### END CODE HERE ###\n",
    "\n",
    "    # Print train/test Errors\n",
    "    print(\"train accuracy: {} %\".format(100 - np.mean(np.abs(Y_prediction_train - Y_train)) * 100))\n",
    "    print(\"test accuracy: {} %\".format(100 - np.mean(np.abs(Y_prediction_test - Y_test)) * 100))\n",
    "\n",
    "    \n",
    "    d = {\"costs\": costs,\n",
    "         \"Y_prediction_test\": Y_prediction_test, \n",
    "         \"Y_prediction_train\" : Y_prediction_train, \n",
    "         \"w\" : w, \n",
    "         \"b\" : b,\n",
    "         \"learning_rate\" : learning_rate,\n",
    "         \"num_iterations\": num_iterations}\n",
    "    \n",
    "    return d"
   ]
  },
  {
   "cell_type": "code",
   "execution_count": 179,
   "metadata": {},
   "outputs": [
    {
     "name": "stdout",
     "output_type": "stream",
     "text": [
      "Cost after iteration 0: 37.674780\n",
      "Cost after iteration 100: 0.984917\n",
      "Cost after iteration 200: 0.944712\n",
      "Cost after iteration 300: 0.909327\n",
      "Cost after iteration 400: 0.877982\n"
     ]
    },
    {
     "name": "stderr",
     "output_type": "stream",
     "text": [
      "c:\\users\\lenevo\\appdata\\local\\programs\\python\\python37-32\\lib\\site-packages\\ipykernel_launcher.py:28: RuntimeWarning: divide by zero encountered in log\n",
      "c:\\users\\lenevo\\appdata\\local\\programs\\python\\python37-32\\lib\\site-packages\\ipykernel_launcher.py:28: RuntimeWarning: invalid value encountered in multiply\n"
     ]
    },
    {
     "name": "stdout",
     "output_type": "stream",
     "text": [
      "Cost after iteration 500: 0.850030\n",
      "Cost after iteration 600: 0.824934\n",
      "Cost after iteration 700: 0.802245\n",
      "Cost after iteration 800: 0.781593\n",
      "Cost after iteration 900: 0.762671\n",
      "Cost after iteration 1000: 0.745235\n",
      "Cost after iteration 1100: 0.737376\n",
      "Cost after iteration 1200: 0.738085\n",
      "Cost after iteration 1300: 0.726160\n",
      "Cost after iteration 1400: 0.714912\n",
      "Cost after iteration 1500: 0.704268\n",
      "Cost after iteration 1600: 0.694161\n",
      "Cost after iteration 1700: 0.684531\n",
      "Cost after iteration 1800: 0.675334\n",
      "Cost after iteration 1900: 0.666538\n",
      "train accuracy: 68.72727272727272 %\n",
      "test accuracy: 75.95307917888563 %\n"
     ]
    }
   ],
   "source": [
    "d = model(train_X ,train_Y, test_X, test_Y, num_iterations = 2000, learning_rate = 0.004, print_cost = True)"
   ]
  },
  {
   "cell_type": "code",
   "execution_count": 168,
   "metadata": {},
   "outputs": [],
   "source": [
    "w=d['w'] \n",
    "b=d['b']"
   ]
  },
  {
   "cell_type": "code",
   "execution_count": 155,
   "metadata": {},
   "outputs": [
    {
     "data": {
      "text/plain": [
       "(array([[-0.52019074],\n",
       "        [ 1.02104087],\n",
       "        [-0.04906404],\n",
       "        [ 0.25590776],\n",
       "        [-1.21903367],\n",
       "        [ 0.00401514],\n",
       "        [ 0.50092429]]),\n",
       " 0.10529664292727872)"
      ]
     },
     "execution_count": 155,
     "metadata": {},
     "output_type": "execute_result"
    }
   ],
   "source": [
    " w ,b"
   ]
  },
  {
   "cell_type": "markdown",
   "metadata": {},
   "source": [
    "Now our model is ready.\n",
    "Now we have to submit a output file on kaggle plateform for this problem."
   ]
  },
  {
   "cell_type": "code",
   "execution_count": 26,
   "metadata": {},
   "outputs": [],
   "source": [
    "tests = pd.read_csv(\"test.csv\")"
   ]
  },
  {
   "cell_type": "code",
   "execution_count": 40,
   "metadata": {},
   "outputs": [],
   "source": [
    "tests['Sex'] = tests[\"Sex\"].map({'male' :0 , 'female' : 1})"
   ]
  },
  {
   "cell_type": "code",
   "execution_count": 41,
   "metadata": {},
   "outputs": [],
   "source": [
    "tests['Embarked'] = tests[\"Embarked\"].map({'C' :1 , 'S' : 2 , \"Q\":3})"
   ]
  },
  {
   "cell_type": "code",
   "execution_count": 42,
   "metadata": {},
   "outputs": [
    {
     "data": {
      "text/html": [
       "<div>\n",
       "<style scoped>\n",
       "    .dataframe tbody tr th:only-of-type {\n",
       "        vertical-align: middle;\n",
       "    }\n",
       "\n",
       "    .dataframe tbody tr th {\n",
       "        vertical-align: top;\n",
       "    }\n",
       "\n",
       "    .dataframe thead th {\n",
       "        text-align: right;\n",
       "    }\n",
       "</style>\n",
       "<table border=\"1\" class=\"dataframe\">\n",
       "  <thead>\n",
       "    <tr style=\"text-align: right;\">\n",
       "      <th></th>\n",
       "      <th>PassengerId</th>\n",
       "      <th>Pclass</th>\n",
       "      <th>Name</th>\n",
       "      <th>Sex</th>\n",
       "      <th>Age</th>\n",
       "      <th>SibSp</th>\n",
       "      <th>Parch</th>\n",
       "      <th>Ticket</th>\n",
       "      <th>Fare</th>\n",
       "      <th>Cabin</th>\n",
       "      <th>Embarked</th>\n",
       "    </tr>\n",
       "  </thead>\n",
       "  <tbody>\n",
       "    <tr>\n",
       "      <th>0</th>\n",
       "      <td>892</td>\n",
       "      <td>3</td>\n",
       "      <td>Kelly, Mr. James</td>\n",
       "      <td>0</td>\n",
       "      <td>34.5</td>\n",
       "      <td>0</td>\n",
       "      <td>0</td>\n",
       "      <td>330911</td>\n",
       "      <td>7.8292</td>\n",
       "      <td>NaN</td>\n",
       "      <td>3</td>\n",
       "    </tr>\n",
       "    <tr>\n",
       "      <th>1</th>\n",
       "      <td>893</td>\n",
       "      <td>3</td>\n",
       "      <td>Wilkes, Mrs. James (Ellen Needs)</td>\n",
       "      <td>1</td>\n",
       "      <td>47.0</td>\n",
       "      <td>1</td>\n",
       "      <td>0</td>\n",
       "      <td>363272</td>\n",
       "      <td>7.0000</td>\n",
       "      <td>NaN</td>\n",
       "      <td>2</td>\n",
       "    </tr>\n",
       "    <tr>\n",
       "      <th>2</th>\n",
       "      <td>894</td>\n",
       "      <td>2</td>\n",
       "      <td>Myles, Mr. Thomas Francis</td>\n",
       "      <td>0</td>\n",
       "      <td>62.0</td>\n",
       "      <td>0</td>\n",
       "      <td>0</td>\n",
       "      <td>240276</td>\n",
       "      <td>9.6875</td>\n",
       "      <td>NaN</td>\n",
       "      <td>3</td>\n",
       "    </tr>\n",
       "    <tr>\n",
       "      <th>3</th>\n",
       "      <td>895</td>\n",
       "      <td>3</td>\n",
       "      <td>Wirz, Mr. Albert</td>\n",
       "      <td>0</td>\n",
       "      <td>27.0</td>\n",
       "      <td>0</td>\n",
       "      <td>0</td>\n",
       "      <td>315154</td>\n",
       "      <td>8.6625</td>\n",
       "      <td>NaN</td>\n",
       "      <td>2</td>\n",
       "    </tr>\n",
       "    <tr>\n",
       "      <th>4</th>\n",
       "      <td>896</td>\n",
       "      <td>3</td>\n",
       "      <td>Hirvonen, Mrs. Alexander (Helga E Lindqvist)</td>\n",
       "      <td>1</td>\n",
       "      <td>22.0</td>\n",
       "      <td>1</td>\n",
       "      <td>1</td>\n",
       "      <td>3101298</td>\n",
       "      <td>12.2875</td>\n",
       "      <td>NaN</td>\n",
       "      <td>2</td>\n",
       "    </tr>\n",
       "    <tr>\n",
       "      <th>...</th>\n",
       "      <td>...</td>\n",
       "      <td>...</td>\n",
       "      <td>...</td>\n",
       "      <td>...</td>\n",
       "      <td>...</td>\n",
       "      <td>...</td>\n",
       "      <td>...</td>\n",
       "      <td>...</td>\n",
       "      <td>...</td>\n",
       "      <td>...</td>\n",
       "      <td>...</td>\n",
       "    </tr>\n",
       "    <tr>\n",
       "      <th>413</th>\n",
       "      <td>1305</td>\n",
       "      <td>3</td>\n",
       "      <td>Spector, Mr. Woolf</td>\n",
       "      <td>0</td>\n",
       "      <td>NaN</td>\n",
       "      <td>0</td>\n",
       "      <td>0</td>\n",
       "      <td>A.5. 3236</td>\n",
       "      <td>8.0500</td>\n",
       "      <td>NaN</td>\n",
       "      <td>2</td>\n",
       "    </tr>\n",
       "    <tr>\n",
       "      <th>414</th>\n",
       "      <td>1306</td>\n",
       "      <td>1</td>\n",
       "      <td>Oliva y Ocana, Dona. Fermina</td>\n",
       "      <td>1</td>\n",
       "      <td>39.0</td>\n",
       "      <td>0</td>\n",
       "      <td>0</td>\n",
       "      <td>PC 17758</td>\n",
       "      <td>108.9000</td>\n",
       "      <td>C105</td>\n",
       "      <td>1</td>\n",
       "    </tr>\n",
       "    <tr>\n",
       "      <th>415</th>\n",
       "      <td>1307</td>\n",
       "      <td>3</td>\n",
       "      <td>Saether, Mr. Simon Sivertsen</td>\n",
       "      <td>0</td>\n",
       "      <td>38.5</td>\n",
       "      <td>0</td>\n",
       "      <td>0</td>\n",
       "      <td>SOTON/O.Q. 3101262</td>\n",
       "      <td>7.2500</td>\n",
       "      <td>NaN</td>\n",
       "      <td>2</td>\n",
       "    </tr>\n",
       "    <tr>\n",
       "      <th>416</th>\n",
       "      <td>1308</td>\n",
       "      <td>3</td>\n",
       "      <td>Ware, Mr. Frederick</td>\n",
       "      <td>0</td>\n",
       "      <td>NaN</td>\n",
       "      <td>0</td>\n",
       "      <td>0</td>\n",
       "      <td>359309</td>\n",
       "      <td>8.0500</td>\n",
       "      <td>NaN</td>\n",
       "      <td>2</td>\n",
       "    </tr>\n",
       "    <tr>\n",
       "      <th>417</th>\n",
       "      <td>1309</td>\n",
       "      <td>3</td>\n",
       "      <td>Peter, Master. Michael J</td>\n",
       "      <td>0</td>\n",
       "      <td>NaN</td>\n",
       "      <td>1</td>\n",
       "      <td>1</td>\n",
       "      <td>2668</td>\n",
       "      <td>22.3583</td>\n",
       "      <td>NaN</td>\n",
       "      <td>1</td>\n",
       "    </tr>\n",
       "  </tbody>\n",
       "</table>\n",
       "<p>418 rows × 11 columns</p>\n",
       "</div>"
      ],
      "text/plain": [
       "     PassengerId  Pclass                                          Name  Sex  \\\n",
       "0            892       3                              Kelly, Mr. James    0   \n",
       "1            893       3              Wilkes, Mrs. James (Ellen Needs)    1   \n",
       "2            894       2                     Myles, Mr. Thomas Francis    0   \n",
       "3            895       3                              Wirz, Mr. Albert    0   \n",
       "4            896       3  Hirvonen, Mrs. Alexander (Helga E Lindqvist)    1   \n",
       "..           ...     ...                                           ...  ...   \n",
       "413         1305       3                            Spector, Mr. Woolf    0   \n",
       "414         1306       1                  Oliva y Ocana, Dona. Fermina    1   \n",
       "415         1307       3                  Saether, Mr. Simon Sivertsen    0   \n",
       "416         1308       3                           Ware, Mr. Frederick    0   \n",
       "417         1309       3                      Peter, Master. Michael J    0   \n",
       "\n",
       "      Age  SibSp  Parch              Ticket      Fare Cabin  Embarked  \n",
       "0    34.5      0      0              330911    7.8292   NaN         3  \n",
       "1    47.0      1      0              363272    7.0000   NaN         2  \n",
       "2    62.0      0      0              240276    9.6875   NaN         3  \n",
       "3    27.0      0      0              315154    8.6625   NaN         2  \n",
       "4    22.0      1      1             3101298   12.2875   NaN         2  \n",
       "..    ...    ...    ...                 ...       ...   ...       ...  \n",
       "413   NaN      0      0           A.5. 3236    8.0500   NaN         2  \n",
       "414  39.0      0      0            PC 17758  108.9000  C105         1  \n",
       "415  38.5      0      0  SOTON/O.Q. 3101262    7.2500   NaN         2  \n",
       "416   NaN      0      0              359309    8.0500   NaN         2  \n",
       "417   NaN      1      1                2668   22.3583   NaN         1  \n",
       "\n",
       "[418 rows x 11 columns]"
      ]
     },
     "execution_count": 42,
     "metadata": {},
     "output_type": "execute_result"
    }
   ],
   "source": [
    "tests\n"
   ]
  },
  {
   "cell_type": "code",
   "execution_count": 43,
   "metadata": {},
   "outputs": [],
   "source": [
    "X1= np.array(tests[features])"
   ]
  },
  {
   "cell_type": "code",
   "execution_count": 49,
   "metadata": {},
   "outputs": [],
   "source": [
    "col_mean = np.nanmean(X1, axis=0)\n",
    "inds = np.where(np.isnan(X1))\n",
    "X1[inds] = np.take(col_mean, inds[1])"
   ]
  },
  {
   "cell_type": "code",
   "execution_count": 50,
   "metadata": {},
   "outputs": [
    {
     "data": {
      "text/plain": [
       "array([[ 3.        ,  0.        , 34.5       , ...,  0.        ,\n",
       "         7.8292    ,  3.        ],\n",
       "       [ 3.        ,  1.        , 47.        , ...,  0.        ,\n",
       "         7.        ,  2.        ],\n",
       "       [ 2.        ,  0.        , 62.        , ...,  0.        ,\n",
       "         9.6875    ,  3.        ],\n",
       "       ...,\n",
       "       [ 3.        ,  0.        , 38.5       , ...,  0.        ,\n",
       "         7.25      ,  2.        ],\n",
       "       [ 3.        ,  0.        , 30.27259036, ...,  0.        ,\n",
       "         8.05      ,  2.        ],\n",
       "       [ 3.        ,  0.        , 30.27259036, ...,  1.        ,\n",
       "        22.3583    ,  1.        ]])"
      ]
     },
     "execution_count": 50,
     "metadata": {},
     "output_type": "execute_result"
    }
   ],
   "source": [
    "X1"
   ]
  },
  {
   "cell_type": "code",
   "execution_count": 175,
   "metadata": {},
   "outputs": [],
   "source": [
    "Ypred = predict(w, b, X1)"
   ]
  },
  {
   "cell_type": "code",
   "execution_count": 180,
   "metadata": {},
   "outputs": [
    {
     "data": {
      "text/plain": [
       "(418, 1)"
      ]
     },
     "execution_count": 180,
     "metadata": {},
     "output_type": "execute_result"
    }
   ],
   "source": [
    "Ypred.shape"
   ]
  },
  {
   "cell_type": "code",
   "execution_count": 123,
   "metadata": {},
   "outputs": [
    {
     "data": {
      "text/plain": [
       "(418, 2)"
      ]
     },
     "execution_count": 123,
     "metadata": {},
     "output_type": "execute_result"
    }
   ],
   "source": [
    "Output =np.zeros((Ypred.shape[0] , 2))\n",
    "Output.shape"
   ]
  },
  {
   "cell_type": "code",
   "execution_count": 124,
   "metadata": {},
   "outputs": [],
   "source": [
    "Pid = tests[\"PassengerId\"]"
   ]
  },
  {
   "cell_type": "code",
   "execution_count": 137,
   "metadata": {},
   "outputs": [
    {
     "data": {
      "text/plain": [
       "418"
      ]
     },
     "execution_count": 137,
     "metadata": {},
     "output_type": "execute_result"
    }
   ],
   "source": [
    "id = np.array(Pid)\n",
    "len(id)"
   ]
  },
  {
   "cell_type": "code",
   "execution_count": 176,
   "metadata": {},
   "outputs": [
    {
     "name": "stdout",
     "output_type": "stream",
     "text": [
      "[{'PassengerId': 892, 'Survived': 0}, {'PassengerId': 893, 'Survived': 0}, {'PassengerId': 894, 'Survived': 0}, {'PassengerId': 895, 'Survived': 0}, {'PassengerId': 896, 'Survived': 1}, {'PassengerId': 897, 'Survived': 0}, {'PassengerId': 898, 'Survived': 1}, {'PassengerId': 899, 'Survived': 0}, {'PassengerId': 900, 'Survived': 1}, {'PassengerId': 901, 'Survived': 0}, {'PassengerId': 902, 'Survived': 0}, {'PassengerId': 903, 'Survived': 0}, {'PassengerId': 904, 'Survived': 1}, {'PassengerId': 905, 'Survived': 0}, {'PassengerId': 906, 'Survived': 1}, {'PassengerId': 907, 'Survived': 1}, {'PassengerId': 908, 'Survived': 0}, {'PassengerId': 909, 'Survived': 0}, {'PassengerId': 910, 'Survived': 1}, {'PassengerId': 911, 'Survived': 0}, {'PassengerId': 912, 'Survived': 0}, {'PassengerId': 913, 'Survived': 0}, {'PassengerId': 914, 'Survived': 1}, {'PassengerId': 915, 'Survived': 0}, {'PassengerId': 916, 'Survived': 1}, {'PassengerId': 917, 'Survived': 0}, {'PassengerId': 918, 'Survived': 1}, {'PassengerId': 919, 'Survived': 0}, {'PassengerId': 920, 'Survived': 0}, {'PassengerId': 921, 'Survived': 0}, {'PassengerId': 922, 'Survived': 0}, {'PassengerId': 923, 'Survived': 0}, {'PassengerId': 924, 'Survived': 0}, {'PassengerId': 925, 'Survived': 0}, {'PassengerId': 926, 'Survived': 0}, {'PassengerId': 927, 'Survived': 0}, {'PassengerId': 928, 'Survived': 1}, {'PassengerId': 929, 'Survived': 1}, {'PassengerId': 930, 'Survived': 0}, {'PassengerId': 931, 'Survived': 0}, {'PassengerId': 932, 'Survived': 0}, {'PassengerId': 933, 'Survived': 0}, {'PassengerId': 934, 'Survived': 0}, {'PassengerId': 935, 'Survived': 1}, {'PassengerId': 936, 'Survived': 1}, {'PassengerId': 937, 'Survived': 0}, {'PassengerId': 938, 'Survived': 0}, {'PassengerId': 939, 'Survived': 0}, {'PassengerId': 940, 'Survived': 1}, {'PassengerId': 941, 'Survived': 0}, {'PassengerId': 942, 'Survived': 0}, {'PassengerId': 943, 'Survived': 0}, {'PassengerId': 944, 'Survived': 1}, {'PassengerId': 945, 'Survived': 1}, {'PassengerId': 946, 'Survived': 0}, {'PassengerId': 947, 'Survived': 0}, {'PassengerId': 948, 'Survived': 0}, {'PassengerId': 949, 'Survived': 0}, {'PassengerId': 950, 'Survived': 0}, {'PassengerId': 951, 'Survived': 1}, {'PassengerId': 952, 'Survived': 0}, {'PassengerId': 953, 'Survived': 0}, {'PassengerId': 954, 'Survived': 0}, {'PassengerId': 955, 'Survived': 1}, {'PassengerId': 956, 'Survived': 1}, {'PassengerId': 957, 'Survived': 1}, {'PassengerId': 958, 'Survived': 1}, {'PassengerId': 959, 'Survived': 0}, {'PassengerId': 960, 'Survived': 0}, {'PassengerId': 961, 'Survived': 1}, {'PassengerId': 962, 'Survived': 1}, {'PassengerId': 963, 'Survived': 0}, {'PassengerId': 964, 'Survived': 1}, {'PassengerId': 965, 'Survived': 0}, {'PassengerId': 966, 'Survived': 1}, {'PassengerId': 967, 'Survived': 1}, {'PassengerId': 968, 'Survived': 0}, {'PassengerId': 969, 'Survived': 1}, {'PassengerId': 970, 'Survived': 0}, {'PassengerId': 971, 'Survived': 1}, {'PassengerId': 972, 'Survived': 0}, {'PassengerId': 973, 'Survived': 1}, {'PassengerId': 974, 'Survived': 0}, {'PassengerId': 975, 'Survived': 0}, {'PassengerId': 976, 'Survived': 0}, {'PassengerId': 977, 'Survived': 0}, {'PassengerId': 978, 'Survived': 1}, {'PassengerId': 979, 'Survived': 1}, {'PassengerId': 980, 'Survived': 1}, {'PassengerId': 981, 'Survived': 0}, {'PassengerId': 982, 'Survived': 1}, {'PassengerId': 983, 'Survived': 0}, {'PassengerId': 984, 'Survived': 1}, {'PassengerId': 985, 'Survived': 0}, {'PassengerId': 986, 'Survived': 0}, {'PassengerId': 987, 'Survived': 0}, {'PassengerId': 988, 'Survived': 1}, {'PassengerId': 989, 'Survived': 0}, {'PassengerId': 990, 'Survived': 1}, {'PassengerId': 991, 'Survived': 0}, {'PassengerId': 992, 'Survived': 1}, {'PassengerId': 993, 'Survived': 0}, {'PassengerId': 994, 'Survived': 0}, {'PassengerId': 995, 'Survived': 0}, {'PassengerId': 996, 'Survived': 0}, {'PassengerId': 997, 'Survived': 0}, {'PassengerId': 998, 'Survived': 0}, {'PassengerId': 999, 'Survived': 0}, {'PassengerId': 1000, 'Survived': 0}, {'PassengerId': 1001, 'Survived': 0}, {'PassengerId': 1002, 'Survived': 0}, {'PassengerId': 1003, 'Survived': 1}, {'PassengerId': 1004, 'Survived': 1}, {'PassengerId': 1005, 'Survived': 1}, {'PassengerId': 1006, 'Survived': 1}, {'PassengerId': 1007, 'Survived': 0}, {'PassengerId': 1008, 'Survived': 0}, {'PassengerId': 1009, 'Survived': 1}, {'PassengerId': 1010, 'Survived': 0}, {'PassengerId': 1011, 'Survived': 1}, {'PassengerId': 1012, 'Survived': 1}, {'PassengerId': 1013, 'Survived': 0}, {'PassengerId': 1014, 'Survived': 1}, {'PassengerId': 1015, 'Survived': 0}, {'PassengerId': 1016, 'Survived': 0}, {'PassengerId': 1017, 'Survived': 1}, {'PassengerId': 1018, 'Survived': 0}, {'PassengerId': 1019, 'Survived': 1}, {'PassengerId': 1020, 'Survived': 0}, {'PassengerId': 1021, 'Survived': 0}, {'PassengerId': 1022, 'Survived': 0}, {'PassengerId': 1023, 'Survived': 0}, {'PassengerId': 1024, 'Survived': 0}, {'PassengerId': 1025, 'Survived': 0}, {'PassengerId': 1026, 'Survived': 0}, {'PassengerId': 1027, 'Survived': 0}, {'PassengerId': 1028, 'Survived': 0}, {'PassengerId': 1029, 'Survived': 0}, {'PassengerId': 1030, 'Survived': 1}, {'PassengerId': 1031, 'Survived': 0}, {'PassengerId': 1032, 'Survived': 0}, {'PassengerId': 1033, 'Survived': 1}, {'PassengerId': 1034, 'Survived': 0}, {'PassengerId': 1035, 'Survived': 0}, {'PassengerId': 1036, 'Survived': 0}, {'PassengerId': 1037, 'Survived': 0}, {'PassengerId': 1038, 'Survived': 0}, {'PassengerId': 1039, 'Survived': 0}, {'PassengerId': 1040, 'Survived': 0}, {'PassengerId': 1041, 'Survived': 0}, {'PassengerId': 1042, 'Survived': 1}, {'PassengerId': 1043, 'Survived': 0}, {'PassengerId': 1044, 'Survived': 0}, {'PassengerId': 1045, 'Survived': 0}, {'PassengerId': 1046, 'Survived': 0}, {'PassengerId': 1047, 'Survived': 0}, {'PassengerId': 1048, 'Survived': 1}, {'PassengerId': 1049, 'Survived': 1}, {'PassengerId': 1050, 'Survived': 0}, {'PassengerId': 1051, 'Survived': 0}, {'PassengerId': 1052, 'Survived': 1}, {'PassengerId': 1053, 'Survived': 0}, {'PassengerId': 1054, 'Survived': 1}, {'PassengerId': 1055, 'Survived': 0}, {'PassengerId': 1056, 'Survived': 0}, {'PassengerId': 1057, 'Survived': 1}, {'PassengerId': 1058, 'Survived': 0}, {'PassengerId': 1059, 'Survived': 0}, {'PassengerId': 1060, 'Survived': 1}, {'PassengerId': 1061, 'Survived': 1}, {'PassengerId': 1062, 'Survived': 0}, {'PassengerId': 1063, 'Survived': 0}, {'PassengerId': 1064, 'Survived': 0}, {'PassengerId': 1065, 'Survived': 0}, {'PassengerId': 1066, 'Survived': 0}, {'PassengerId': 1067, 'Survived': 1}, {'PassengerId': 1068, 'Survived': 1}, {'PassengerId': 1069, 'Survived': 0}, {'PassengerId': 1070, 'Survived': 1}, {'PassengerId': 1071, 'Survived': 1}, {'PassengerId': 1072, 'Survived': 0}, {'PassengerId': 1073, 'Survived': 0}, {'PassengerId': 1074, 'Survived': 1}, {'PassengerId': 1075, 'Survived': 0}, {'PassengerId': 1076, 'Survived': 1}, {'PassengerId': 1077, 'Survived': 0}, {'PassengerId': 1078, 'Survived': 1}, {'PassengerId': 1079, 'Survived': 0}, {'PassengerId': 1080, 'Survived': 0}, {'PassengerId': 1081, 'Survived': 0}, {'PassengerId': 1082, 'Survived': 0}, {'PassengerId': 1083, 'Survived': 0}, {'PassengerId': 1084, 'Survived': 0}, {'PassengerId': 1085, 'Survived': 0}, {'PassengerId': 1086, 'Survived': 0}, {'PassengerId': 1087, 'Survived': 0}, {'PassengerId': 1088, 'Survived': 1}, {'PassengerId': 1089, 'Survived': 1}, {'PassengerId': 1090, 'Survived': 0}, {'PassengerId': 1091, 'Survived': 1}, {'PassengerId': 1092, 'Survived': 1}, {'PassengerId': 1093, 'Survived': 0}, {'PassengerId': 1094, 'Survived': 1}, {'PassengerId': 1095, 'Survived': 1}, {'PassengerId': 1096, 'Survived': 0}, {'PassengerId': 1097, 'Survived': 0}, {'PassengerId': 1098, 'Survived': 1}, {'PassengerId': 1099, 'Survived': 0}, {'PassengerId': 1100, 'Survived': 1}, {'PassengerId': 1101, 'Survived': 0}, {'PassengerId': 1102, 'Survived': 0}, {'PassengerId': 1103, 'Survived': 0}, {'PassengerId': 1104, 'Survived': 0}, {'PassengerId': 1105, 'Survived': 1}, {'PassengerId': 1106, 'Survived': 0}, {'PassengerId': 1107, 'Survived': 0}, {'PassengerId': 1108, 'Survived': 1}, {'PassengerId': 1109, 'Survived': 0}, {'PassengerId': 1110, 'Survived': 1}, {'PassengerId': 1111, 'Survived': 0}, {'PassengerId': 1112, 'Survived': 1}, {'PassengerId': 1113, 'Survived': 0}, {'PassengerId': 1114, 'Survived': 1}, {'PassengerId': 1115, 'Survived': 0}, {'PassengerId': 1116, 'Survived': 1}, {'PassengerId': 1117, 'Survived': 0}, {'PassengerId': 1118, 'Survived': 0}, {'PassengerId': 1119, 'Survived': 1}, {'PassengerId': 1120, 'Survived': 0}, {'PassengerId': 1121, 'Survived': 0}, {'PassengerId': 1122, 'Survived': 0}, {'PassengerId': 1123, 'Survived': 1}, {'PassengerId': 1124, 'Survived': 0}, {'PassengerId': 1125, 'Survived': 0}, {'PassengerId': 1126, 'Survived': 0}, {'PassengerId': 1127, 'Survived': 0}, {'PassengerId': 1128, 'Survived': 0}, {'PassengerId': 1129, 'Survived': 0}, {'PassengerId': 1130, 'Survived': 1}, {'PassengerId': 1131, 'Survived': 1}, {'PassengerId': 1132, 'Survived': 1}, {'PassengerId': 1133, 'Survived': 1}, {'PassengerId': 1134, 'Survived': 0}, {'PassengerId': 1135, 'Survived': 0}, {'PassengerId': 1136, 'Survived': 0}, {'PassengerId': 1137, 'Survived': 0}, {'PassengerId': 1138, 'Survived': 1}, {'PassengerId': 1139, 'Survived': 0}, {'PassengerId': 1140, 'Survived': 1}, {'PassengerId': 1141, 'Survived': 0}, {'PassengerId': 1142, 'Survived': 1}, {'PassengerId': 1143, 'Survived': 0}, {'PassengerId': 1144, 'Survived': 1}, {'PassengerId': 1145, 'Survived': 0}, {'PassengerId': 1146, 'Survived': 0}, {'PassengerId': 1147, 'Survived': 0}, {'PassengerId': 1148, 'Survived': 0}, {'PassengerId': 1149, 'Survived': 0}, {'PassengerId': 1150, 'Survived': 1}, {'PassengerId': 1151, 'Survived': 0}, {'PassengerId': 1152, 'Survived': 0}, {'PassengerId': 1153, 'Survived': 0}, {'PassengerId': 1154, 'Survived': 1}, {'PassengerId': 1155, 'Survived': 1}, {'PassengerId': 1156, 'Survived': 0}, {'PassengerId': 1157, 'Survived': 0}, {'PassengerId': 1158, 'Survived': 0}, {'PassengerId': 1159, 'Survived': 0}, {'PassengerId': 1160, 'Survived': 1}, {'PassengerId': 1161, 'Survived': 0}, {'PassengerId': 1162, 'Survived': 0}, {'PassengerId': 1163, 'Survived': 0}, {'PassengerId': 1164, 'Survived': 1}, {'PassengerId': 1165, 'Survived': 1}, {'PassengerId': 1166, 'Survived': 0}, {'PassengerId': 1167, 'Survived': 1}, {'PassengerId': 1168, 'Survived': 0}, {'PassengerId': 1169, 'Survived': 0}, {'PassengerId': 1170, 'Survived': 0}, {'PassengerId': 1171, 'Survived': 0}, {'PassengerId': 1172, 'Survived': 1}, {'PassengerId': 1173, 'Survived': 0}, {'PassengerId': 1174, 'Survived': 1}, {'PassengerId': 1175, 'Survived': 1}, {'PassengerId': 1176, 'Survived': 1}, {'PassengerId': 1177, 'Survived': 0}, {'PassengerId': 1178, 'Survived': 0}, {'PassengerId': 1179, 'Survived': 1}, {'PassengerId': 1180, 'Survived': 0}, {'PassengerId': 1181, 'Survived': 0}, {'PassengerId': 1182, 'Survived': 0}, {'PassengerId': 1183, 'Survived': 1}, {'PassengerId': 1184, 'Survived': 0}, {'PassengerId': 1185, 'Survived': 0}, {'PassengerId': 1186, 'Survived': 0}, {'PassengerId': 1187, 'Survived': 0}, {'PassengerId': 1188, 'Survived': 1}, {'PassengerId': 1189, 'Survived': 0}, {'PassengerId': 1190, 'Survived': 0}, {'PassengerId': 1191, 'Survived': 0}, {'PassengerId': 1192, 'Survived': 0}, {'PassengerId': 1193, 'Survived': 0}, {'PassengerId': 1194, 'Survived': 0}, {'PassengerId': 1195, 'Survived': 0}, {'PassengerId': 1196, 'Survived': 1}, {'PassengerId': 1197, 'Survived': 1}, {'PassengerId': 1198, 'Survived': 1}, {'PassengerId': 1199, 'Survived': 0}, {'PassengerId': 1200, 'Survived': 0}, {'PassengerId': 1201, 'Survived': 0}, {'PassengerId': 1202, 'Survived': 0}, {'PassengerId': 1203, 'Survived': 0}, {'PassengerId': 1204, 'Survived': 0}, {'PassengerId': 1205, 'Survived': 1}, {'PassengerId': 1206, 'Survived': 1}, {'PassengerId': 1207, 'Survived': 1}, {'PassengerId': 1208, 'Survived': 0}, {'PassengerId': 1209, 'Survived': 0}, {'PassengerId': 1210, 'Survived': 0}, {'PassengerId': 1211, 'Survived': 0}, {'PassengerId': 1212, 'Survived': 0}, {'PassengerId': 1213, 'Survived': 0}, {'PassengerId': 1214, 'Survived': 0}, {'PassengerId': 1215, 'Survived': 0}, {'PassengerId': 1216, 'Survived': 1}, {'PassengerId': 1217, 'Survived': 0}, {'PassengerId': 1218, 'Survived': 1}, {'PassengerId': 1219, 'Survived': 0}, {'PassengerId': 1220, 'Survived': 0}, {'PassengerId': 1221, 'Survived': 0}, {'PassengerId': 1222, 'Survived': 1}, {'PassengerId': 1223, 'Survived': 0}, {'PassengerId': 1224, 'Survived': 0}, {'PassengerId': 1225, 'Survived': 0}, {'PassengerId': 1226, 'Survived': 0}, {'PassengerId': 1227, 'Survived': 0}, {'PassengerId': 1228, 'Survived': 0}, {'PassengerId': 1229, 'Survived': 0}, {'PassengerId': 1230, 'Survived': 0}, {'PassengerId': 1231, 'Survived': 0}, {'PassengerId': 1232, 'Survived': 0}, {'PassengerId': 1233, 'Survived': 0}, {'PassengerId': 1234, 'Survived': 0}, {'PassengerId': 1235, 'Survived': 1}, {'PassengerId': 1236, 'Survived': 0}, {'PassengerId': 1237, 'Survived': 1}, {'PassengerId': 1238, 'Survived': 0}, {'PassengerId': 1239, 'Survived': 0}, {'PassengerId': 1240, 'Survived': 0}, {'PassengerId': 1241, 'Survived': 1}, {'PassengerId': 1242, 'Survived': 1}, {'PassengerId': 1243, 'Survived': 0}, {'PassengerId': 1244, 'Survived': 0}, {'PassengerId': 1245, 'Survived': 0}, {'PassengerId': 1246, 'Survived': 1}, {'PassengerId': 1247, 'Survived': 0}, {'PassengerId': 1248, 'Survived': 1}, {'PassengerId': 1249, 'Survived': 0}, {'PassengerId': 1250, 'Survived': 0}, {'PassengerId': 1251, 'Survived': 1}, {'PassengerId': 1252, 'Survived': 0}, {'PassengerId': 1253, 'Survived': 1}, {'PassengerId': 1254, 'Survived': 1}, {'PassengerId': 1255, 'Survived': 0}, {'PassengerId': 1256, 'Survived': 1}, {'PassengerId': 1257, 'Survived': 0}, {'PassengerId': 1258, 'Survived': 0}, {'PassengerId': 1259, 'Survived': 1}, {'PassengerId': 1260, 'Survived': 1}, {'PassengerId': 1261, 'Survived': 0}, {'PassengerId': 1262, 'Survived': 0}, {'PassengerId': 1263, 'Survived': 1}, {'PassengerId': 1264, 'Survived': 0}, {'PassengerId': 1265, 'Survived': 0}, {'PassengerId': 1266, 'Survived': 1}, {'PassengerId': 1267, 'Survived': 1}, {'PassengerId': 1268, 'Survived': 1}, {'PassengerId': 1269, 'Survived': 0}, {'PassengerId': 1270, 'Survived': 0}, {'PassengerId': 1271, 'Survived': 0}, {'PassengerId': 1272, 'Survived': 0}, {'PassengerId': 1273, 'Survived': 0}, {'PassengerId': 1274, 'Survived': 1}, {'PassengerId': 1275, 'Survived': 1}, {'PassengerId': 1276, 'Survived': 0}, {'PassengerId': 1277, 'Survived': 1}, {'PassengerId': 1278, 'Survived': 0}, {'PassengerId': 1279, 'Survived': 0}, {'PassengerId': 1280, 'Survived': 0}, {'PassengerId': 1281, 'Survived': 0}, {'PassengerId': 1282, 'Survived': 1}, {'PassengerId': 1283, 'Survived': 1}, {'PassengerId': 1284, 'Survived': 0}, {'PassengerId': 1285, 'Survived': 0}, {'PassengerId': 1286, 'Survived': 0}, {'PassengerId': 1287, 'Survived': 1}, {'PassengerId': 1288, 'Survived': 0}, {'PassengerId': 1289, 'Survived': 1}, {'PassengerId': 1290, 'Survived': 0}, {'PassengerId': 1291, 'Survived': 0}, {'PassengerId': 1292, 'Survived': 1}, {'PassengerId': 1293, 'Survived': 0}, {'PassengerId': 1294, 'Survived': 1}, {'PassengerId': 1295, 'Survived': 1}, {'PassengerId': 1296, 'Survived': 0}, {'PassengerId': 1297, 'Survived': 0}, {'PassengerId': 1298, 'Survived': 0}, {'PassengerId': 1299, 'Survived': 1}, {'PassengerId': 1300, 'Survived': 1}, {'PassengerId': 1301, 'Survived': 1}, {'PassengerId': 1302, 'Survived': 1}, {'PassengerId': 1303, 'Survived': 1}, {'PassengerId': 1304, 'Survived': 1}, {'PassengerId': 1305, 'Survived': 0}, {'PassengerId': 1306, 'Survived': 1}, {'PassengerId': 1307, 'Survived': 0}, {'PassengerId': 1308, 'Survived': 0}, {'PassengerId': 1309, 'Survived': 0}]\n"
     ]
    }
   ],
   "source": [
    "dic_list = []\n",
    "for i in range(len(id)):\n",
    "    di = dict()\n",
    "    di[ \"PassengerId\"] =int(id[i])\n",
    "    di[ \"Survived\"] =int(Ypred[i,0])\n",
    "    dic_list.append(di)\n",
    "print(dic_list)"
   ]
  },
  {
   "cell_type": "code",
   "execution_count": 177,
   "metadata": {},
   "outputs": [],
   "source": [
    "import csv\n",
    "csvfile=open('Output2.csv','w', newline='')\n",
    "fields=list(dic_list[0].keys())\n",
    "obj=csv.DictWriter(csvfile, fieldnames=fields)\n",
    "obj.writeheader()\n",
    "obj.writerows(dic_list)\n",
    "csvfile.close()"
   ]
  }
 ],
 "metadata": {
  "extensions": {
   "jupyter_dashboards": {
    "activeView": "default_view",
    "version": 1,
    "views": {
     "default_view": {
      "cellMargin": 10,
      "defaultCellHeight": 40,
      "maxColumns": 12,
      "name": "active_view",
      "type": "grid"
     }
    }
   }
  },
  "kernelspec": {
   "display_name": "Python 3",
   "language": "python",
   "name": "python3"
  },
  "language_info": {
   "codemirror_mode": {
    "name": "ipython",
    "version": 3
   },
   "file_extension": ".py",
   "mimetype": "text/x-python",
   "name": "python",
   "nbconvert_exporter": "python",
   "pygments_lexer": "ipython3",
   "version": "3.7.2"
  }
 },
 "nbformat": 4,
 "nbformat_minor": 4
}
